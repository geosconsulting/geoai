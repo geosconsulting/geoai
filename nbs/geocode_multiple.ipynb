{
 "cells": [
  {
   "cell_type": "code",
   "execution_count": 1,
   "id": "ee22d49c5ec0ea4a",
   "metadata": {
    "execution": {
     "iopub.execute_input": "2025-02-27T16:35:00.892460Z",
     "iopub.status.busy": "2025-02-27T16:35:00.891462Z",
     "iopub.status.idle": "2025-02-27T16:35:01.687665Z",
     "shell.execute_reply": "2025-02-27T16:35:01.687665Z",
     "shell.execute_reply.started": "2025-02-27T16:35:00.892460Z"
    }
   },
   "outputs": [],
   "source": [
    "import ipyfilechooser\n",
    "import ipywidgets as widgets\n",
    "from geopy.geocoders import Nominatim, Photon"
   ]
  },
  {
   "cell_type": "code",
   "execution_count": 3,
   "id": "ed76496b43c902eb",
   "metadata": {
    "execution": {
     "iopub.execute_input": "2025-02-27T16:35:07.909323Z",
     "iopub.status.busy": "2025-02-27T16:35:07.909323Z",
     "iopub.status.idle": "2025-02-27T16:35:14.143117Z",
     "shell.execute_reply": "2025-02-27T16:35:14.141874Z",
     "shell.execute_reply.started": "2025-02-27T16:35:07.909323Z"
    }
   },
   "outputs": [],
   "source": [
    "from poste import geocode_nominatim as gn\n",
    "import importlib"
   ]
  },
  {
   "cell_type": "code",
   "execution_count": 4,
   "id": "fea4eb0a464b2b3c",
   "metadata": {
    "execution": {
     "iopub.execute_input": "2025-02-24T16:41:05.292656Z",
     "iopub.status.busy": "2025-02-24T16:41:05.292656Z",
     "iopub.status.idle": "2025-02-24T16:41:05.299766Z",
     "shell.execute_reply": "2025-02-24T16:41:05.299766Z",
     "shell.execute_reply.started": "2025-02-24T16:41:05.292656Z"
    }
   },
   "outputs": [
    {
     "data": {
      "text/plain": [
       "<module 'snippets.geocode_nominatim' from 'C:\\\\Users\\\\User\\\\PycharmProjects\\\\geoai\\\\snippets\\\\geocode_nominatim.py'>"
      ]
     },
     "execution_count": 4,
     "metadata": {},
     "output_type": "execute_result"
    }
   ],
   "source": [
    "importlib.reload(gn)"
   ]
  },
  {
   "cell_type": "code",
   "execution_count": 5,
   "id": "b8387f8d97caf8bf",
   "metadata": {
    "execution": {
     "iopub.execute_input": "2025-02-24T16:41:05.300774Z",
     "iopub.status.busy": "2025-02-24T16:41:05.300774Z",
     "iopub.status.idle": "2025-02-24T16:41:05.352510Z",
     "shell.execute_reply": "2025-02-24T16:41:05.352510Z",
     "shell.execute_reply.started": "2025-02-24T16:41:05.300774Z"
    }
   },
   "outputs": [],
   "source": [
    "# Initialize geocoders\n",
    "geolocator_nominatim = Nominatim(user_agent=\"geo_app\")\n",
    "geolocator_photon = Photon(user_agent=\"measurements\")"
   ]
  },
  {
   "cell_type": "code",
   "execution_count": 6,
   "id": "b5cd2caf62956d9c",
   "metadata": {
    "execution": {
     "iopub.execute_input": "2025-02-24T16:41:05.354517Z",
     "iopub.status.busy": "2025-02-24T16:41:05.354517Z",
     "iopub.status.idle": "2025-02-24T16:41:05.357483Z",
     "shell.execute_reply": "2025-02-24T16:41:05.357483Z",
     "shell.execute_reply.started": "2025-02-24T16:41:05.354517Z"
    }
   },
   "outputs": [],
   "source": [
    "# Global variable for geocoding method\n",
    "geocoder_choice = \"nominatim\"  # Default geocoder"
   ]
  },
  {
   "cell_type": "code",
   "execution_count": 7,
   "id": "eb06bf44e5ae7a19",
   "metadata": {
    "execution": {
     "iopub.execute_input": "2025-02-24T16:41:05.358489Z",
     "iopub.status.busy": "2025-02-24T16:41:05.358489Z",
     "iopub.status.idle": "2025-02-24T16:41:05.362566Z",
     "shell.execute_reply": "2025-02-24T16:41:05.362566Z",
     "shell.execute_reply.started": "2025-02-24T16:41:05.358489Z"
    }
   },
   "outputs": [],
   "source": [
    "# Function to geocode an address using the selected geocoder\n",
    "def geocode_address(address):\n",
    "    print(f\"Using {geocoder_choice}\")\n",
    "    if geocoder_choice == \"nominatim\":        \n",
    "        location = geolocator_nominatim.geocode(address)\n",
    "    else:  # Use Photon\n",
    "        location = geolocator_photon.geocode(address)\n",
    "\n",
    "    if location:\n",
    "        return (location.latitude, location.longitude)\n",
    "    return None"
   ]
  },
  {
   "cell_type": "code",
   "execution_count": 8,
   "id": "8a6e4cf6e2459e3c",
   "metadata": {
    "execution": {
     "iopub.execute_input": "2025-02-24T16:41:06.134200Z",
     "iopub.status.busy": "2025-02-24T16:41:06.134200Z",
     "iopub.status.idle": "2025-02-24T16:41:06.157009Z",
     "shell.execute_reply": "2025-02-24T16:41:06.157009Z",
     "shell.execute_reply.started": "2025-02-24T16:41:06.134200Z"
    }
   },
   "outputs": [
    {
     "data": {
      "application/vnd.jupyter.widget-view+json": {
       "model_id": "41bfd0021bfe491cad274b9b80300dd6",
       "version_major": 2,
       "version_minor": 0
      },
      "text/plain": [
       "FileChooser(path='C:\\Users\\User\\PycharmProjects\\geoai', filename='', title='', show_hidden=False, select_desc=…"
      ]
     },
     "metadata": {},
     "output_type": "display_data"
    }
   ],
   "source": [
    "# File chooser\n",
    "chooser = ipyfilechooser.FileChooser()\n",
    "display(chooser)"
   ]
  },
  {
   "cell_type": "code",
   "execution_count": 9,
   "id": "c513e03bccaa4776",
   "metadata": {
    "execution": {
     "iopub.execute_input": "2025-02-24T16:41:15.430826Z",
     "iopub.status.busy": "2025-02-24T16:41:15.429826Z",
     "iopub.status.idle": "2025-02-24T16:41:15.434815Z",
     "shell.execute_reply": "2025-02-24T16:41:15.434815Z",
     "shell.execute_reply.started": "2025-02-24T16:41:15.430826Z"
    }
   },
   "outputs": [],
   "source": [
    "# Function to read file and create a list of addresses\n",
    "def get_addresses_from_file(filepath):\n",
    "    addresses = []\n",
    "    with open(filepath, \"r\", encoding=\"utf-8\") as file:\n",
    "        addresses = [line.strip() for line in file if line.strip()]\n",
    "        \n",
    "    # Save addresses to an external file\n",
    "    with open(\"../py/addresses.py\", \"w\", encoding=\"utf-8\") as f:\n",
    "        f.write(f\"addresses = {addresses}\")\n",
    "\n",
    "    return addresses"
   ]
  },
  {
   "cell_type": "code",
   "execution_count": 10,
   "id": "751328597f329841",
   "metadata": {
    "execution": {
     "iopub.execute_input": "2025-02-24T16:41:17.261650Z",
     "iopub.status.busy": "2025-02-24T16:41:17.261650Z",
     "iopub.status.idle": "2025-02-24T16:41:17.266182Z",
     "shell.execute_reply": "2025-02-24T16:41:17.266182Z",
     "shell.execute_reply.started": "2025-02-24T16:41:17.261650Z"
    }
   },
   "outputs": [],
   "source": [
    "# Dropdown to select geocoder\n",
    "geocoder_dropdown = widgets.Dropdown(\n",
    "    options=[\"nominatim\", \"photon\"],\n",
    "    value=\"nominatim\",\n",
    "    description=\"Geocoder:\",\n",
    ")"
   ]
  },
  {
   "cell_type": "code",
   "execution_count": 11,
   "id": "aa9e58170664a2d5",
   "metadata": {
    "execution": {
     "iopub.execute_input": "2025-02-24T16:41:17.996007Z",
     "iopub.status.busy": "2025-02-24T16:41:17.995006Z",
     "iopub.status.idle": "2025-02-24T16:41:18.000076Z",
     "shell.execute_reply": "2025-02-24T16:41:18.000076Z",
     "shell.execute_reply.started": "2025-02-24T16:41:17.996007Z"
    }
   },
   "outputs": [
    {
     "data": {
      "application/vnd.jupyter.widget-view+json": {
       "model_id": "458dc36a360849aeb8d5d2b18f3997f0",
       "version_major": 2,
       "version_minor": 0
      },
      "text/plain": [
       "Dropdown(description='Geocoder:', options=('nominatim', 'photon'), value='nominatim')"
      ]
     },
     "metadata": {},
     "output_type": "display_data"
    }
   ],
   "source": [
    "def update_geocoder(change):\n",
    "    global geocoder_choice\n",
    "    geocoder_choice = change[\"new\"]\n",
    "\n",
    "geocoder_dropdown.observe(update_geocoder, names=\"value\")\n",
    "display(geocoder_dropdown)"
   ]
  },
  {
   "cell_type": "code",
   "execution_count": 13,
   "id": "b190483003f879d1",
   "metadata": {
    "execution": {
     "iopub.execute_input": "2025-02-24T16:41:40.653536Z",
     "iopub.status.busy": "2025-02-24T16:41:40.653536Z",
     "iopub.status.idle": "2025-02-24T16:41:40.663992Z",
     "shell.execute_reply": "2025-02-24T16:41:40.663992Z",
     "shell.execute_reply.started": "2025-02-24T16:41:40.653536Z"
    }
   },
   "outputs": [
    {
     "data": {
      "application/vnd.jupyter.widget-view+json": {
       "model_id": "9d6a58f1f2ce4805897ad0f7ca1d25c1",
       "version_major": 2,
       "version_minor": 0
      },
      "text/plain": [
       "Button(description='Load & Geocode Addresses', style=ButtonStyle())"
      ]
     },
     "metadata": {},
     "output_type": "display_data"
    },
    {
     "data": {
      "application/vnd.jupyter.widget-view+json": {
       "model_id": "e55e1477843c40e1aaed8456820c54f7",
       "version_major": 2,
       "version_minor": 0
      },
      "text/plain": [
       "Output()"
      ]
     },
     "metadata": {},
     "output_type": "display_data"
    }
   ],
   "source": [
    "# Button to trigger processing\n",
    "process_button = widgets.Button(description=\"Load & Geocode Addresses\")\n",
    "output = widgets.Output()\n",
    "\n",
    "def on_button_click(b):\n",
    "    with output:\n",
    "        output.clear_output()\n",
    "        if chooser.selected:\n",
    "            print(f\"Using {chooser.selected}\")\n",
    "            addresses = get_addresses_from_file(chooser.selected)\n",
    "            print(f\"Loaded {len(addresses)} addresses into 'addresses.txt'\")\n",
    "            \n",
    "            # Geocode each address\n",
    "            results = {addr: geocode_address(addr) for addr in addresses}\n",
    "            print(\"Geocoded Addresses:\")\n",
    "            for addr, coords in results.items():\n",
    "                print(f\"{addr} -> {coords}\")\n",
    "\n",
    "process_button.on_click(on_button_click)\n",
    "display(process_button, output)"
   ]
  },
  {
   "cell_type": "markdown",
   "id": "a4eda31868b47c95",
   "metadata": {},
   "source": [
    "viale Marconi 12, Roma, Italia -> (41.8690183, 12.4676846)\n",
    "Viale Beethoven, 36, 00144 Roma RM -> (41.833166000000006, 12.466212282358827)\n",
    "Stazione Termini, Roma -> (41.899617649999996, 12.506249019824086)\n",
    "Piazza Vittorio Emanuele II, 1, 00187 Roma RM -> (41.8955501, 12.5029204)"
   ]
  },
  {
   "cell_type": "markdown",
   "id": "cdbd95edfa54ee9e",
   "metadata": {},
   "source": [
    "viale Marconi 12, Roma, Italia -> (41.8690183, 12.4676846)\n",
    "Viale Beethoven, 36, 00144 Roma RM -> (41.833179099999995, 12.466159741514076)\n",
    "Stazione Termini, Roma -> (41.899617649999996, 12.506249019824086)\n",
    "Piazza Vittorio Emanuele II, 1, 00187 Roma RM -> (41.8955501, 12.5029204)"
   ]
  },
  {
   "cell_type": "code",
   "execution_count": null,
   "id": "7680c289d6dac064",
   "metadata": {},
   "outputs": [],
   "source": []
  },
  {
   "cell_type": "code",
   "execution_count": 1,
   "id": "643a2fc7-2730-4e4d-8ade-0410b71ef4fd",
   "metadata": {
    "execution": {
     "iopub.execute_input": "2025-02-24T08:53:58.344696Z",
     "iopub.status.busy": "2025-02-24T08:53:58.343691Z",
     "iopub.status.idle": "2025-02-24T08:53:59.648983Z",
     "shell.execute_reply": "2025-02-24T08:53:59.648983Z",
     "shell.execute_reply.started": "2025-02-24T08:53:58.344696Z"
    }
   },
   "outputs": [],
   "source": []
  },
  {
   "cell_type": "code",
   "execution_count": 2,
   "id": "initial_id",
   "metadata": {
    "execution": {
     "iopub.execute_input": "2025-02-24T08:53:59.650989Z",
     "iopub.status.busy": "2025-02-24T08:53:59.649988Z",
     "iopub.status.idle": "2025-02-24T08:54:05.801777Z",
     "shell.execute_reply": "2025-02-24T08:54:05.801777Z",
     "shell.execute_reply.started": "2025-02-24T08:53:59.650989Z"
    }
   },
   "outputs": [],
   "source": []
  },
  {
   "cell_type": "code",
   "execution_count": 3,
   "id": "baca8f11-fd97-4564-b144-da0b825e6dfb",
   "metadata": {
    "execution": {
     "iopub.execute_input": "2025-02-24T08:54:05.802783Z",
     "iopub.status.busy": "2025-02-24T08:54:05.802783Z",
     "iopub.status.idle": "2025-02-24T08:54:05.810388Z",
     "shell.execute_reply": "2025-02-24T08:54:05.810388Z",
     "shell.execute_reply.started": "2025-02-24T08:54:05.802783Z"
    }
   },
   "outputs": [
    {
     "data": {
      "text/plain": [
       "<module 'geocode_nominatim' from 'C:\\\\Users\\\\User\\\\PycharmProjects\\\\geoai\\\\geocode_nominatim.py'>"
      ]
     },
     "execution_count": 3,
     "metadata": {},
     "output_type": "execute_result"
    }
   ],
   "source": []
  },
  {
   "cell_type": "code",
   "execution_count": 33,
   "id": "53c1fb91-1709-472d-9bbf-ea414db39a72",
   "metadata": {
    "execution": {
     "iopub.execute_input": "2025-02-23T12:45:34.040172Z",
     "iopub.status.busy": "2025-02-23T12:45:34.040172Z",
     "iopub.status.idle": "2025-02-23T12:45:34.094393Z",
     "shell.execute_reply": "2025-02-23T12:45:34.094393Z",
     "shell.execute_reply.started": "2025-02-23T12:45:34.040172Z"
    }
   },
   "outputs": [],
   "source": []
  },
  {
   "cell_type": "code",
   "execution_count": 26,
   "id": "35c9189c-0564-47e1-8b67-8a20b13b5740",
   "metadata": {
    "execution": {
     "iopub.execute_input": "2025-02-23T12:40:11.458624Z",
     "iopub.status.busy": "2025-02-23T12:40:11.458624Z",
     "iopub.status.idle": "2025-02-23T12:40:11.462138Z",
     "shell.execute_reply": "2025-02-23T12:40:11.462138Z",
     "shell.execute_reply.started": "2025-02-23T12:40:11.458624Z"
    }
   },
   "outputs": [],
   "source": []
  },
  {
   "cell_type": "code",
   "execution_count": 30,
   "id": "3cbf71af-3799-4cee-8502-db4506ca8770",
   "metadata": {
    "execution": {
     "iopub.execute_input": "2025-02-23T12:42:42.071831Z",
     "iopub.status.busy": "2025-02-23T12:42:42.071831Z",
     "iopub.status.idle": "2025-02-23T12:42:42.075422Z",
     "shell.execute_reply": "2025-02-23T12:42:42.075422Z",
     "shell.execute_reply.started": "2025-02-23T12:42:42.071831Z"
    }
   },
   "outputs": [],
   "source": []
  },
  {
   "cell_type": "code",
   "execution_count": 31,
   "id": "489cbff6-5b08-41d3-9d21-31c0e3f7aa80",
   "metadata": {
    "execution": {
     "iopub.execute_input": "2025-02-23T12:43:31.719253Z",
     "iopub.status.busy": "2025-02-23T12:43:31.718254Z",
     "iopub.status.idle": "2025-02-23T12:43:31.745270Z",
     "shell.execute_reply": "2025-02-23T12:43:31.745270Z",
     "shell.execute_reply.started": "2025-02-23T12:43:31.719253Z"
    }
   },
   "outputs": [
    {
     "data": {
      "application/vnd.jupyter.widget-view+json": {
       "model_id": "6a4f643505d04185a7d97c935d78012c",
       "version_major": 2,
       "version_minor": 0
      },
      "text/plain": [
       "FileChooser(path='C:\\Users\\User\\PycharmProjects\\geoai', filename='', title='', show_hidden=False, select_desc=…"
      ]
     },
     "metadata": {},
     "output_type": "display_data"
    }
   ],
   "source": []
  },
  {
   "cell_type": "code",
   "execution_count": 21,
   "id": "a7905b5b-507c-43de-90ed-ee940601b068",
   "metadata": {
    "execution": {
     "iopub.execute_input": "2025-02-23T12:39:54.007840Z",
     "iopub.status.busy": "2025-02-23T12:39:54.007319Z",
     "iopub.status.idle": "2025-02-23T12:39:54.011265Z",
     "shell.execute_reply": "2025-02-23T12:39:54.011265Z",
     "shell.execute_reply.started": "2025-02-23T12:39:54.007840Z"
    }
   },
   "outputs": [],
   "source": []
  },
  {
   "cell_type": "code",
   "execution_count": 22,
   "id": "0aa36348-6559-4c41-90f3-af8857770bcd",
   "metadata": {
    "execution": {
     "iopub.execute_input": "2025-02-23T12:39:55.110547Z",
     "iopub.status.busy": "2025-02-23T12:39:55.110547Z",
     "iopub.status.idle": "2025-02-23T12:39:55.115067Z",
     "shell.execute_reply": "2025-02-23T12:39:55.115067Z",
     "shell.execute_reply.started": "2025-02-23T12:39:55.110547Z"
    }
   },
   "outputs": [],
   "source": []
  },
  {
   "cell_type": "code",
   "execution_count": 23,
   "id": "6e74492f-65ae-490b-b9ff-8354ba81597a",
   "metadata": {
    "execution": {
     "iopub.execute_input": "2025-02-23T12:39:55.574143Z",
     "iopub.status.busy": "2025-02-23T12:39:55.574143Z",
     "iopub.status.idle": "2025-02-23T12:39:55.582004Z",
     "shell.execute_reply": "2025-02-23T12:39:55.582004Z",
     "shell.execute_reply.started": "2025-02-23T12:39:55.574143Z"
    }
   },
   "outputs": [
    {
     "data": {
      "application/vnd.jupyter.widget-view+json": {
       "model_id": "7074215867594a41a5970276633287aa",
       "version_major": 2,
       "version_minor": 0
      },
      "text/plain": [
       "Dropdown(description='Geocoder:', options=('nominatim', 'photon'), value='nominatim')"
      ]
     },
     "metadata": {},
     "output_type": "display_data"
    }
   ],
   "source": []
  },
  {
   "cell_type": "code",
   "execution_count": 28,
   "id": "0d88ca11-6802-4bbd-a657-e5b4ea063a7d",
   "metadata": {
    "execution": {
     "iopub.execute_input": "2025-02-23T12:41:39.479607Z",
     "iopub.status.busy": "2025-02-23T12:41:39.479607Z",
     "iopub.status.idle": "2025-02-23T12:41:39.489275Z",
     "shell.execute_reply": "2025-02-23T12:41:39.489275Z",
     "shell.execute_reply.started": "2025-02-23T12:41:39.479607Z"
    }
   },
   "outputs": [
    {
     "data": {
      "application/vnd.jupyter.widget-view+json": {
       "model_id": "0db6ddeddac748b987d17e31774cae33",
       "version_major": 2,
       "version_minor": 0
      },
      "text/plain": [
       "Button(description='Load & Geocode Addresses', style=ButtonStyle())"
      ]
     },
     "metadata": {},
     "output_type": "display_data"
    },
    {
     "data": {
      "application/vnd.jupyter.widget-view+json": {
       "model_id": "62e8221567bd48e58defc2257e862232",
       "version_major": 2,
       "version_minor": 0
      },
      "text/plain": [
       "Output()"
      ]
     },
     "metadata": {},
     "output_type": "display_data"
    }
   ],
   "source": []
  },
  {
   "cell_type": "markdown",
   "id": "f2730041-4c1d-4638-98c1-cadb489d46e2",
   "metadata": {},
   "source": []
  },
  {
   "cell_type": "markdown",
   "id": "4f5b78a2-aa3a-4e47-afb3-60d4c90d29eb",
   "metadata": {},
   "source": []
  },
  {
   "cell_type": "code",
   "execution_count": null,
   "id": "233739d4-57be-4824-9d17-a38540f701ed",
   "metadata": {},
   "outputs": [],
   "source": []
  }
 ],
 "metadata": {
  "kernelspec": {
   "display_name": "Python [conda env:geo] *",
   "language": "python",
   "name": "conda-env-geo-py"
  },
  "language_info": {
   "codemirror_mode": {
    "name": "ipython",
    "version": 3
   },
   "file_extension": ".py",
   "mimetype": "text/x-python",
   "name": "python",
   "nbconvert_exporter": "python",
   "pygments_lexer": "ipython3",
   "version": "3.10.16"
  }
 },
 "nbformat": 4,
 "nbformat_minor": 5
}

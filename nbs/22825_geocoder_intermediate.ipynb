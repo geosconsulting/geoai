{
 "cells": [
  {
   "cell_type": "markdown",
   "id": "705c8de3-1f60-4548-8666-43c6fd4a2cd7",
   "metadata": {},
   "source": [
    "# Import all needed Python Libraries"
   ]
  },
  {
   "cell_type": "code",
   "execution_count": 4,
   "id": "1ac9080b71e19103",
   "metadata": {
    "execution": {
     "iopub.execute_input": "2025-02-28T10:14:44.015130Z",
     "iopub.status.busy": "2025-02-28T10:14:44.014133Z",
     "iopub.status.idle": "2025-02-28T10:14:44.031656Z",
     "shell.execute_reply": "2025-02-28T10:14:44.031656Z",
     "shell.execute_reply.started": "2025-02-28T10:14:44.015130Z"
    }
   },
   "outputs": [],
   "source": [
    "import pandas as pd\n",
    "import geopandas as gpd\n",
    "from shapely.geometry import Point\n",
    "import ipyfilechooser\n",
    "from openpyxl import load_workbook\n",
    "import re\n",
    "from geopy.geocoders import Nominatim\n",
    "from geopy.exc import GeocoderTimedOut\n",
    "import time\n",
    "from tqdm.notebook import tqdm\n",
    "import ipywidgets as widgets\n",
    "from IPython.display import display, clear_output"
   ]
  },
  {
   "cell_type": "markdown",
   "id": "0394482b-f98d-4be8-8fe2-f87f601c8a60",
   "metadata": {},
   "source": [
    "# Process EXCEL file containing addresses"
   ]
  },
  {
   "cell_type": "code",
   "execution_count": 5,
   "id": "ab034d1f-a4be-47f6-bd08-81d58f841571",
   "metadata": {
    "execution": {
     "iopub.execute_input": "2025-02-28T10:14:45.162585Z",
     "iopub.status.busy": "2025-02-28T10:14:45.161585Z",
     "iopub.status.idle": "2025-02-28T10:14:45.166699Z",
     "shell.execute_reply": "2025-02-28T10:14:45.166587Z",
     "shell.execute_reply.started": "2025-02-28T10:14:45.162585Z"
    }
   },
   "outputs": [],
   "source": [
    "# Global variable to store addresses\n",
    "addresses = []"
   ]
  },
  {
   "cell_type": "markdown",
   "id": "b782fa90-1e57-41e5-8b21-234399bfc664",
   "metadata": {},
   "source": [
    "## Choosing Excel file"
   ]
  },
  {
   "cell_type": "code",
   "execution_count": 6,
   "id": "e7bb2a9f636cb1cc",
   "metadata": {
    "execution": {
     "iopub.execute_input": "2025-02-28T10:14:46.484413Z",
     "iopub.status.busy": "2025-02-28T10:14:46.483411Z",
     "iopub.status.idle": "2025-02-28T10:14:46.520910Z",
     "shell.execute_reply": "2025-02-28T10:14:46.520036Z",
     "shell.execute_reply.started": "2025-02-28T10:14:46.484413Z"
    }
   },
   "outputs": [
    {
     "data": {
      "application/vnd.jupyter.widget-view+json": {
       "model_id": "14a26c8bf8be43e2a10819fa786334d2",
       "version_major": 2,
       "version_minor": 0
      },
      "text/plain": [
       "FileChooser(path='C:\\Users\\User\\PycharmProjects\\geoai', filename='', title='', show_hidden=False, select_desc=…"
      ]
     },
     "metadata": {},
     "output_type": "display_data"
    }
   ],
   "source": [
    "# File chooser\n",
    "chooser = ipyfilechooser.FileChooser()\n",
    "display(chooser)"
   ]
  },
  {
   "cell_type": "code",
   "execution_count": 7,
   "id": "c794f92d-36d0-411f-ac1e-f3209335d7ee",
   "metadata": {
    "execution": {
     "iopub.execute_input": "2025-02-28T10:16:58.536527Z",
     "iopub.status.busy": "2025-02-28T10:16:58.536527Z",
     "iopub.status.idle": "2025-02-28T10:16:58.546004Z",
     "shell.execute_reply": "2025-02-28T10:16:58.544995Z",
     "shell.execute_reply.started": "2025-02-28T10:16:58.536527Z"
    }
   },
   "outputs": [],
   "source": [
    "# # This must be reloaded every time \n",
    "# wb = load_workbook(chooser.value)\n",
    "# sheet = wb.active  # Get active sheet\n",
    "# data = sheet.values  # Read values"
   ]
  },
  {
   "cell_type": "code",
   "execution_count": null,
   "id": "9ff3e0d897f4b809",
   "metadata": {},
   "outputs": [],
   "source": [
    "# addresses_list = []\n",
    "# for index,row in enumerate(data):    \n",
    "#     if index >0:        \n",
    "#         # Read only columns with address info and the unique ID\n",
    "#         result = \",\".join([row[0],row[12], row[13], row[17], row[18], row[22],row[23]])\n",
    "#         addresses_list.append(result)        "
   ]
  },
  {
   "cell_type": "code",
   "execution_count": 9,
   "id": "311c9b52-43b2-487a-8df8-f506f79424bb",
   "metadata": {
    "execution": {
     "iopub.execute_input": "2025-02-28T10:20:20.107113Z",
     "iopub.status.busy": "2025-02-28T10:20:20.107113Z",
     "iopub.status.idle": "2025-02-28T10:20:20.202521Z",
     "shell.execute_reply": "2025-02-28T10:20:20.201573Z",
     "shell.execute_reply.started": "2025-02-28T10:20:20.107113Z"
    }
   },
   "outputs": [],
   "source": [
    "# Load the Excel file\n",
    "df = pd.read_excel(chooser.value, engine=\"openpyxl\", usecols=[0, 12,13,18,22,23])  # Use engine=\"openpyxl\" for .xlsx files"
   ]
  },
  {
   "cell_type": "code",
   "execution_count": 12,
   "id": "9e34af18-363c-4b30-a406-15a6e1657d3c",
   "metadata": {
    "execution": {
     "iopub.execute_input": "2025-02-28T10:20:40.788907Z",
     "iopub.status.busy": "2025-02-28T10:20:40.784894Z",
     "iopub.status.idle": "2025-02-28T10:20:40.794916Z",
     "shell.execute_reply": "2025-02-28T10:20:40.794916Z",
     "shell.execute_reply.started": "2025-02-28T10:20:40.788907Z"
    }
   },
   "outputs": [],
   "source": [
    "df.set_index('CodiceIdentificativo', inplace=True)"
   ]
  },
  {
   "cell_type": "code",
   "execution_count": 15,
   "id": "b7e47c4b-d0c5-4d7a-ae31-29497a1e56a3",
   "metadata": {
    "execution": {
     "iopub.execute_input": "2025-02-28T10:21:07.757129Z",
     "iopub.status.busy": "2025-02-28T10:21:07.757129Z",
     "iopub.status.idle": "2025-02-28T10:21:07.773805Z",
     "shell.execute_reply": "2025-02-28T10:21:07.772820Z",
     "shell.execute_reply.started": "2025-02-28T10:21:07.757129Z"
    }
   },
   "outputs": [
    {
     "data": {
      "text/html": [
       "<div>\n",
       "<style scoped>\n",
       "    .dataframe tbody tr th:only-of-type {\n",
       "        vertical-align: middle;\n",
       "    }\n",
       "\n",
       "    .dataframe tbody tr th {\n",
       "        vertical-align: top;\n",
       "    }\n",
       "\n",
       "    .dataframe thead th {\n",
       "        text-align: right;\n",
       "    }\n",
       "</style>\n",
       "<table border=\"1\" class=\"dataframe\">\n",
       "  <thead>\n",
       "    <tr style=\"text-align: right;\">\n",
       "      <th></th>\n",
       "      <th>ViaSenzaCivico</th>\n",
       "      <th>Civico</th>\n",
       "      <th>Comune</th>\n",
       "      <th>SiglaProvincia</th>\n",
       "      <th>Provincia</th>\n",
       "    </tr>\n",
       "    <tr>\n",
       "      <th>CodiceIdentificativo</th>\n",
       "      <th></th>\n",
       "      <th></th>\n",
       "      <th></th>\n",
       "      <th></th>\n",
       "      <th></th>\n",
       "    </tr>\n",
       "  </thead>\n",
       "  <tbody>\n",
       "    <tr>\n",
       "      <th>F10OGF36A1</th>\n",
       "      <td>VIA GUGLIELMO MARCONI</td>\n",
       "      <td>53</td>\n",
       "      <td>BORGO VENETO</td>\n",
       "      <td>PD</td>\n",
       "      <td>PADOVA</td>\n",
       "    </tr>\n",
       "    <tr>\n",
       "      <th>B074UB1URA</th>\n",
       "      <td>VIA LIBERAZIONE</td>\n",
       "      <td>5</td>\n",
       "      <td>TORPE'</td>\n",
       "      <td>NU</td>\n",
       "      <td>NUORO</td>\n",
       "    </tr>\n",
       "    <tr>\n",
       "      <th>F16N8F33UB</th>\n",
       "      <td>LMAR TRIESTE</td>\n",
       "      <td>4</td>\n",
       "      <td>CAMEROTA</td>\n",
       "      <td>SA</td>\n",
       "      <td>SALERNO</td>\n",
       "    </tr>\n",
       "    <tr>\n",
       "      <th>F1E0JF3FVZ</th>\n",
       "      <td>VIA XXV APRILE</td>\n",
       "      <td>56</td>\n",
       "      <td>SORBOLO MEZZANI</td>\n",
       "      <td>PR</td>\n",
       "      <td>PARMA</td>\n",
       "    </tr>\n",
       "    <tr>\n",
       "      <th>B0BA4B2OG1</th>\n",
       "      <td>PIAZZA PANICO CARDINALE</td>\n",
       "      <td>4</td>\n",
       "      <td>TRICASE</td>\n",
       "      <td>LE</td>\n",
       "      <td>LECCE</td>\n",
       "    </tr>\n",
       "    <tr>\n",
       "      <th>F1L23F3T7C</th>\n",
       "      <td>VIA CASSIA AURELIA</td>\n",
       "      <td>76</td>\n",
       "      <td>CHIUSI</td>\n",
       "      <td>SI</td>\n",
       "      <td>SIENA</td>\n",
       "    </tr>\n",
       "    <tr>\n",
       "      <th>B0039B018A</th>\n",
       "      <td>VIA ADRIANO OLIVETTI</td>\n",
       "      <td>SNC</td>\n",
       "      <td>MARCIANISE</td>\n",
       "      <td>CE</td>\n",
       "      <td>CASERTA</td>\n",
       "    </tr>\n",
       "    <tr>\n",
       "      <th>F17LCF34YL</th>\n",
       "      <td>STRADA PROVINCIALE DEI SANTI</td>\n",
       "      <td>SNC</td>\n",
       "      <td>CASSINO</td>\n",
       "      <td>FR</td>\n",
       "      <td>FROSINONE</td>\n",
       "    </tr>\n",
       "    <tr>\n",
       "      <th>B03FIB1J5T</th>\n",
       "      <td>VIA FRATELLI CERVI</td>\n",
       "      <td>6</td>\n",
       "      <td>SAN GIOVANNI VALDARNO</td>\n",
       "      <td>AR</td>\n",
       "      <td>AREZZO</td>\n",
       "    </tr>\n",
       "    <tr>\n",
       "      <th>F0HLQF1SWD</th>\n",
       "      <td>VIA PROVINCIALE NORD</td>\n",
       "      <td>138</td>\n",
       "      <td>LICCIANA NARDI</td>\n",
       "      <td>MS</td>\n",
       "      <td>MASSA-CARRARA</td>\n",
       "    </tr>\n",
       "  </tbody>\n",
       "</table>\n",
       "</div>"
      ],
      "text/plain": [
       "                                    ViaSenzaCivico Civico  \\\n",
       "CodiceIdentificativo                                        \n",
       "F10OGF36A1                   VIA GUGLIELMO MARCONI     53   \n",
       "B074UB1URA                         VIA LIBERAZIONE      5   \n",
       "F16N8F33UB                            LMAR TRIESTE      4   \n",
       "F1E0JF3FVZ                          VIA XXV APRILE     56   \n",
       "B0BA4B2OG1                 PIAZZA PANICO CARDINALE      4   \n",
       "F1L23F3T7C                      VIA CASSIA AURELIA     76   \n",
       "B0039B018A                    VIA ADRIANO OLIVETTI    SNC   \n",
       "F17LCF34YL            STRADA PROVINCIALE DEI SANTI    SNC   \n",
       "B03FIB1J5T                      VIA FRATELLI CERVI      6   \n",
       "F0HLQF1SWD                    VIA PROVINCIALE NORD    138   \n",
       "\n",
       "                                     Comune SiglaProvincia      Provincia  \n",
       "CodiceIdentificativo                                                       \n",
       "F10OGF36A1                     BORGO VENETO             PD         PADOVA  \n",
       "B074UB1URA                           TORPE'             NU          NUORO  \n",
       "F16N8F33UB                         CAMEROTA             SA        SALERNO  \n",
       "F1E0JF3FVZ                  SORBOLO MEZZANI             PR          PARMA  \n",
       "B0BA4B2OG1                          TRICASE             LE          LECCE  \n",
       "F1L23F3T7C                           CHIUSI             SI          SIENA  \n",
       "B0039B018A                       MARCIANISE             CE        CASERTA  \n",
       "F17LCF34YL                          CASSINO             FR      FROSINONE  \n",
       "B03FIB1J5T            SAN GIOVANNI VALDARNO             AR         AREZZO  \n",
       "F0HLQF1SWD                   LICCIANA NARDI             MS  MASSA-CARRARA  "
      ]
     },
     "execution_count": 15,
     "metadata": {},
     "output_type": "execute_result"
    }
   ],
   "source": [
    "# Display the first few rows\n",
    "df.sample(10)"
   ]
  },
  {
   "cell_type": "markdown",
   "id": "0b68a2bd-0982-45fd-acca-a14fe0a4c0d7",
   "metadata": {},
   "source": [
    "## Processing Excel rows"
   ]
  },
  {
   "cell_type": "markdown",
   "id": "e9762ace-d76a-48e5-b93d-34c76293bf61",
   "metadata": {},
   "source": [
    "## Visualize Processed Data and Convert to Pandas Dataframe"
   ]
  },
  {
   "cell_type": "code",
   "execution_count": 2,
   "id": "2255b4f4dcbcf8ba",
   "metadata": {
    "execution": {
     "iopub.execute_input": "2025-02-28T10:07:05.934601Z",
     "iopub.status.busy": "2025-02-28T10:07:05.934601Z",
     "iopub.status.idle": "2025-02-28T10:07:06.279960Z",
     "shell.execute_reply": "2025-02-28T10:07:06.278808Z",
     "shell.execute_reply.started": "2025-02-28T10:07:05.934601Z"
    }
   },
   "outputs": [
    {
     "ename": "NameError",
     "evalue": "name 'addresses_list' is not defined",
     "output_type": "error",
     "traceback": [
      "\u001b[1;31m---------------------------------------------------------------------------\u001b[0m",
      "\u001b[1;31mNameError\u001b[0m                                 Traceback (most recent call last)",
      "Cell \u001b[1;32mIn[2], line 1\u001b[0m\n\u001b[1;32m----> 1\u001b[0m \u001b[43maddresses_list\u001b[49m\n",
      "\u001b[1;31mNameError\u001b[0m: name 'addresses_list' is not defined"
     ]
    }
   ],
   "source": [
    "addresses_list"
   ]
  },
  {
   "cell_type": "code",
   "execution_count": 1,
   "id": "28999605-65c4-4037-aba2-5efe8f3627ad",
   "metadata": {
    "execution": {
     "iopub.execute_input": "2025-02-28T10:06:45.569602Z",
     "iopub.status.busy": "2025-02-28T10:06:45.569602Z",
     "iopub.status.idle": "2025-02-28T10:06:45.586453Z",
     "shell.execute_reply": "2025-02-28T10:06:45.586211Z",
     "shell.execute_reply.started": "2025-02-28T10:06:45.569602Z"
    }
   },
   "outputs": [],
   "source": [
    "# Function to split ID and address\n",
    "def split_id_address(entry):\n",
    "    parts = entry.split(\",\")\n",
    "    unique_id = parts[0]\n",
    "    address = \", \".join(parts[1:])  # Join remaining parts into full address\n",
    "    return unique_id, address\n"
   ]
  },
  {
   "cell_type": "code",
   "execution_count": null,
   "id": "d72df039-cb9e-4f4d-bd1d-235f2b395b05",
   "metadata": {},
   "outputs": [],
   "source": [
    "# Convert data into a DataFrame\n",
    "df = pd.DataFrame([split_id_address(entry) for entry in addresses_list], columns=[\"ID\", \"Address\"])"
   ]
  },
  {
   "cell_type": "code",
   "execution_count": null,
   "id": "5ae21957-1aa1-472c-b111-8836bfba2cac",
   "metadata": {},
   "outputs": [],
   "source": [
    "df"
   ]
  },
  {
   "cell_type": "markdown",
   "id": "134596114562d244",
   "metadata": {},
   "source": [
    "# Geocoding"
   ]
  },
  {
   "cell_type": "code",
   "execution_count": null,
   "id": "6b93ad25-28ef-4a12-97ac-45c433484170",
   "metadata": {},
   "outputs": [],
   "source": [
    "# Initialize Nominatim geocoder if faisl change the string of the user_agent\n",
    "geolocator = Nominatim(user_agent=\"geo_app1111\")"
   ]
  },
  {
   "cell_type": "code",
   "execution_count": null,
   "id": "00d4187e-1339-4a59-9962-589a955b99a6",
   "metadata": {},
   "outputs": [],
   "source": [
    "# Widget to display progress\n",
    "output_widget = widgets.Output()\n",
    "display(output_widget)"
   ]
  },
  {
   "cell_type": "code",
   "execution_count": null,
   "id": "fb39540b8745d985",
   "metadata": {},
   "outputs": [],
   "source": [
    "# Function to geocode an address with retry logic and live updates\n",
    "def geocode_address(address, index):\n",
    "    try:\n",
    "        location = geolocator.geocode(address, timeout=10)\n",
    "        if location:\n",
    "            lat, lon = round(location.latitude, 6), round(location.longitude, 6)  # Round to 6 decimals\n",
    "        else:\n",
    "            lat, lon = None, None\n",
    "    except GeocoderTimedOut:\n",
    "        time.sleep(1)\n",
    "        return geocode_address(address, index)  # Retry on timeout\n",
    "    \n",
    "    # Update widget display\n",
    "    with output_widget:\n",
    "        clear_output(wait=True)\n",
    "        print(f\"Geocoded {index + 1}/{len(df)}: {address} → {lat}, {lon}\")\n",
    "    \n",
    "    return lat, lon"
   ]
  },
  {
   "cell_type": "markdown",
   "id": "b08f459a-971f-4efc-9a8d-3b045fa30e27",
   "metadata": {},
   "source": [
    "## Convert to Pandas Dataframe and rejoin the ID for GIS joining"
   ]
  },
  {
   "cell_type": "code",
   "execution_count": null,
   "id": "dced912c-cb91-4aae-ad3f-a451b3e2f575",
   "metadata": {},
   "outputs": [],
   "source": [
    "# Apply geocoding with tqdm progress bar\n",
    "df[\"Latitude\"], df[\"Longitude\"] = zip(*[geocode_address(addr, idx) for idx, addr in tqdm(enumerate(df[\"Address\"]), total=len(df))])\n",
    "\n",
    "# Display final result\n",
    "display(df)"
   ]
  },
  {
   "cell_type": "markdown",
   "id": "6f358fa0190eb78b",
   "metadata": {},
   "source": [
    "## Export Geocoded Values to Comma Delimited (csv) or/and Excel (xlsx)"
   ]
  },
  {
   "cell_type": "code",
   "execution_count": null,
   "id": "fad6fef7-b6ab-4399-a55e-f4064ed97254",
   "metadata": {},
   "outputs": [],
   "source": [
    "df.to_csv('output.csv')"
   ]
  },
  {
   "cell_type": "code",
   "execution_count": null,
   "id": "c7ab63b6-2795-4231-933d-67cb512bbd6b",
   "metadata": {},
   "outputs": [],
   "source": [
    "df.to_excel('output.xlsx')"
   ]
  },
  {
   "cell_type": "markdown",
   "id": "7cc2eca0-6401-4d6c-ba31-c3c50efd2c96",
   "metadata": {},
   "source": [
    "# Convert to GIS Dataset (Point)"
   ]
  },
  {
   "cell_type": "code",
   "execution_count": null,
   "id": "d614b09b-eb37-4e4c-8a9c-8fa59c4deee9",
   "metadata": {},
   "outputs": [],
   "source": [
    "# Convert DataFrame to GeoDataFrame\n",
    "df.dropna(subset=[\"Latitude\", \"Longitude\"], inplace=True)  # Remove rows with missing coordinates\n",
    "df[\"geometry\"] = df.apply(lambda row: Point(row[\"Longitude\"], row[\"Latitude\"]), axis=1)  # Create Point geometries\n",
    "gdf = gpd.GeoDataFrame(df, geometry=\"geometry\", crs=\"EPSG:4326\")  # Set CRS to WGS 84\n",
    "\n",
    "# Display final GeoDataFrame\n",
    "display(gdf)"
   ]
  },
  {
   "cell_type": "code",
   "execution_count": null,
   "id": "ec71be57-73d0-4119-97e2-11914c9da641",
   "metadata": {},
   "outputs": [],
   "source": [
    "gdf.explore()"
   ]
  },
  {
   "cell_type": "markdown",
   "id": "e9e8a2b4-450a-427f-a40a-78f96a650db0",
   "metadata": {},
   "source": [
    "## Export to shapefile"
   ]
  },
  {
   "cell_type": "code",
   "execution_count": null,
   "id": "6cb74661-e67e-4582-b766-581bb6ff4f6f",
   "metadata": {},
   "outputs": [],
   "source": [
    "gdf.to_file('output.shp')"
   ]
  },
  {
   "cell_type": "code",
   "execution_count": null,
   "id": "45054e50-8d13-4fb0-8bea-dcd47c77556f",
   "metadata": {},
   "outputs": [],
   "source": []
  }
 ],
 "metadata": {
  "kernelspec": {
   "display_name": "Python [conda env:geo] *",
   "language": "python",
   "name": "conda-env-geo-py"
  },
  "language_info": {
   "codemirror_mode": {
    "name": "ipython",
    "version": 3
   },
   "file_extension": ".py",
   "mimetype": "text/x-python",
   "name": "python",
   "nbconvert_exporter": "python",
   "pygments_lexer": "ipython3",
   "version": "3.10.16"
  }
 },
 "nbformat": 4,
 "nbformat_minor": 5
}

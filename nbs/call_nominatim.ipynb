{
 "cells": [
  {
   "cell_type": "code",
   "execution_count": 1,
   "id": "initial_id",
   "metadata": {
    "execution": {
     "iopub.execute_input": "2025-02-24T16:42:29.593934Z",
     "iopub.status.busy": "2025-02-24T16:42:29.593934Z",
     "iopub.status.idle": "2025-02-24T16:42:30.892670Z",
     "shell.execute_reply": "2025-02-24T16:42:30.892670Z",
     "shell.execute_reply.started": "2025-02-24T16:42:29.593934Z"
    }
   },
   "outputs": [],
   "source": [
    "from snippets import geocode_nominatim as gn\n",
    "import importlib\n",
    "import ipyfilechooser\n",
    "import ipywidgets as widgets"
   ]
  },
  {
   "cell_type": "code",
   "execution_count": 2,
   "id": "baca8f11-fd97-4564-b144-da0b825e6dfb",
   "metadata": {
    "execution": {
     "iopub.execute_input": "2025-02-24T16:42:30.894878Z",
     "iopub.status.busy": "2025-02-24T16:42:30.894583Z",
     "iopub.status.idle": "2025-02-24T16:42:30.901388Z",
     "shell.execute_reply": "2025-02-24T16:42:30.901388Z",
     "shell.execute_reply.started": "2025-02-24T16:42:30.894878Z"
    }
   },
   "outputs": [
    {
     "data": {
      "text/plain": [
       "<module 'snippets.geocode_nominatim' from 'C:\\\\Users\\\\User\\\\PycharmProjects\\\\geoai\\\\snippets\\\\geocode_nominatim.py'>"
      ]
     },
     "execution_count": 2,
     "metadata": {},
     "output_type": "execute_result"
    }
   ],
   "source": [
    "importlib.reload(gn)"
   ]
  },
  {
   "cell_type": "code",
   "execution_count": 3,
   "id": "489cbff6-5b08-41d3-9d21-31c0e3f7aa80",
   "metadata": {
    "execution": {
     "iopub.execute_input": "2025-02-24T16:42:31.726316Z",
     "iopub.status.busy": "2025-02-24T16:42:31.726316Z",
     "iopub.status.idle": "2025-02-24T16:42:31.750854Z",
     "shell.execute_reply": "2025-02-24T16:42:31.750854Z",
     "shell.execute_reply.started": "2025-02-24T16:42:31.726316Z"
    }
   },
   "outputs": [
    {
     "data": {
      "application/vnd.jupyter.widget-view+json": {
       "model_id": "bfc9cd144350412d83b3bbac55644c2e",
       "version_major": 2,
       "version_minor": 0
      },
      "text/plain": [
       "FileChooser(path='C:\\Users\\User\\PycharmProjects\\geoai', filename='', title='', show_hidden=False, select_desc=…"
      ]
     },
     "metadata": {},
     "output_type": "display_data"
    }
   ],
   "source": [
    "# Global variable to store addresses\n",
    "addresses = []\n",
    "\n",
    "# File chooser\n",
    "chooser = ipyfilechooser.FileChooser()\n",
    "display(chooser)"
   ]
  },
  {
   "cell_type": "code",
   "execution_count": 4,
   "id": "a7905b5b-507c-43de-90ed-ee940601b068",
   "metadata": {
    "execution": {
     "iopub.execute_input": "2025-02-24T16:42:38.933406Z",
     "iopub.status.busy": "2025-02-24T16:42:38.933406Z",
     "iopub.status.idle": "2025-02-24T16:42:38.943168Z",
     "shell.execute_reply": "2025-02-24T16:42:38.943168Z",
     "shell.execute_reply.started": "2025-02-24T16:42:38.933406Z"
    }
   },
   "outputs": [
    {
     "data": {
      "application/vnd.jupyter.widget-view+json": {
       "model_id": "e172474ca25f4760b2d6b40663895b60",
       "version_major": 2,
       "version_minor": 0
      },
      "text/plain": [
       "Button(description='Load Addresses', style=ButtonStyle())"
      ]
     },
     "metadata": {},
     "output_type": "display_data"
    },
    {
     "data": {
      "application/vnd.jupyter.widget-view+json": {
       "model_id": "89957c4178124fb294be7f4c9d252792",
       "version_major": 2,
       "version_minor": 0
      },
      "text/plain": [
       "Output()"
      ]
     },
     "metadata": {},
     "output_type": "display_data"
    }
   ],
   "source": [
    "# Function to read file and create a list of addresses\n",
    "def get_addresses_from_file(filepath):\n",
    "    global addresses  # Ensure we modify the global variable\n",
    "    with open(filepath, \"r\", encoding=\"utf-8\") as file:\n",
    "        addresses = [line.strip() for line in file if line.strip()]\n",
    "\n",
    "# Button to trigger processing\n",
    "process_button = widgets.Button(description=\"Load Addresses\")\n",
    "output = widgets.Output()\n",
    "\n",
    "def on_button_click(b):\n",
    "    global addresses\n",
    "    with output:\n",
    "        output.clear_output()\n",
    "        if chooser.selected:\n",
    "            get_addresses_from_file(chooser.selected)\n",
    "            print(f\"Loaded {len(addresses)} addresses into variable 'addresses'\")\n",
    "            print(addresses)\n",
    "\n",
    "process_button.on_click(on_button_click)\n",
    "display(process_button, output)"
   ]
  },
  {
   "cell_type": "code",
   "execution_count": 35,
   "id": "e7443a3f55967ac8",
   "metadata": {
    "execution": {
     "iopub.execute_input": "2025-02-23T12:20:59.800126Z",
     "iopub.status.busy": "2025-02-23T12:20:59.799127Z",
     "iopub.status.idle": "2025-02-23T12:20:59.804613Z",
     "shell.execute_reply": "2025-02-23T12:20:59.803802Z",
     "shell.execute_reply.started": "2025-02-23T12:20:59.800126Z"
    }
   },
   "outputs": [],
   "source": [
    " # addresses = [\"viale Marconi 12, Roma, Italia\",\n",
    " #              \"Viale Beethoven, 36, 00144 Roma RM\",\n",
    " #              \"Stazione Termini, Roma\"]  # Input addresses here"
   ]
  },
  {
   "cell_type": "code",
   "execution_count": 5,
   "id": "5cfcc050-6745-4d63-ae2e-65dcbdfd1c35",
   "metadata": {
    "execution": {
     "iopub.execute_input": "2025-02-24T16:42:45.878457Z",
     "iopub.status.busy": "2025-02-24T16:42:45.878457Z",
     "iopub.status.idle": "2025-02-24T16:42:50.664377Z",
     "shell.execute_reply": "2025-02-24T16:42:50.664377Z",
     "shell.execute_reply.started": "2025-02-24T16:42:45.878457Z"
    }
   },
   "outputs": [
    {
     "name": "stdout",
     "output_type": "stream",
     "text": [
      "viale Marconi 12, Roma, Italia: 41.8690183, 12.4676846\n",
      "Viale Beethoven, 36, 00144 Roma RM: 41.833166000000006, 12.466212282358827\n",
      "Stazione Termini, Roma: 41.899617649999996, 12.506249019824086\n",
      "Piazza Vittorio Emanuele II, 1, 00187 Roma RM: 41.8955501, 12.5029204\n"
     ]
    }
   ],
   "source": [
    "gdf = gn.geocode_addresses(addresses)"
   ]
  },
  {
   "cell_type": "code",
   "execution_count": 6,
   "id": "fadb2bc4-1ae2-4910-8e69-1daf00bc84e3",
   "metadata": {
    "execution": {
     "iopub.execute_input": "2025-02-24T16:42:53.927447Z",
     "iopub.status.busy": "2025-02-24T16:42:53.927447Z",
     "iopub.status.idle": "2025-02-24T16:42:53.936643Z",
     "shell.execute_reply": "2025-02-24T16:42:53.936643Z",
     "shell.execute_reply.started": "2025-02-24T16:42:53.927447Z"
    }
   },
   "outputs": [
    {
     "data": {
      "text/html": [
       "<div>\n",
       "<style scoped>\n",
       "    .dataframe tbody tr th:only-of-type {\n",
       "        vertical-align: middle;\n",
       "    }\n",
       "\n",
       "    .dataframe tbody tr th {\n",
       "        vertical-align: top;\n",
       "    }\n",
       "\n",
       "    .dataframe thead th {\n",
       "        text-align: right;\n",
       "    }\n",
       "</style>\n",
       "<table border=\"1\" class=\"dataframe\">\n",
       "  <thead>\n",
       "    <tr style=\"text-align: right;\">\n",
       "      <th></th>\n",
       "      <th>Address</th>\n",
       "      <th>Latitude</th>\n",
       "      <th>Longitude</th>\n",
       "      <th>geometry</th>\n",
       "    </tr>\n",
       "  </thead>\n",
       "  <tbody>\n",
       "    <tr>\n",
       "      <th>0</th>\n",
       "      <td>viale Marconi 12, Roma, Italia</td>\n",
       "      <td>41.869018</td>\n",
       "      <td>12.467685</td>\n",
       "      <td>POINT (12.46768 41.86902)</td>\n",
       "    </tr>\n",
       "    <tr>\n",
       "      <th>1</th>\n",
       "      <td>Viale Beethoven, 36, 00144 Roma RM</td>\n",
       "      <td>41.833166</td>\n",
       "      <td>12.466212</td>\n",
       "      <td>POINT (12.46621 41.83317)</td>\n",
       "    </tr>\n",
       "    <tr>\n",
       "      <th>2</th>\n",
       "      <td>Stazione Termini, Roma</td>\n",
       "      <td>41.899618</td>\n",
       "      <td>12.506249</td>\n",
       "      <td>POINT (12.50625 41.89962)</td>\n",
       "    </tr>\n",
       "    <tr>\n",
       "      <th>3</th>\n",
       "      <td>Piazza Vittorio Emanuele II, 1, 00187 Roma RM</td>\n",
       "      <td>41.895550</td>\n",
       "      <td>12.502920</td>\n",
       "      <td>POINT (12.50292 41.89555)</td>\n",
       "    </tr>\n",
       "  </tbody>\n",
       "</table>\n",
       "</div>"
      ],
      "text/plain": [
       "                                         Address   Latitude  Longitude  \\\n",
       "0                 viale Marconi 12, Roma, Italia  41.869018  12.467685   \n",
       "1             Viale Beethoven, 36, 00144 Roma RM  41.833166  12.466212   \n",
       "2                         Stazione Termini, Roma  41.899618  12.506249   \n",
       "3  Piazza Vittorio Emanuele II, 1, 00187 Roma RM  41.895550  12.502920   \n",
       "\n",
       "                    geometry  \n",
       "0  POINT (12.46768 41.86902)  \n",
       "1  POINT (12.46621 41.83317)  \n",
       "2  POINT (12.50625 41.89962)  \n",
       "3  POINT (12.50292 41.89555)  "
      ]
     },
     "execution_count": 6,
     "metadata": {},
     "output_type": "execute_result"
    }
   ],
   "source": [
    "gdf"
   ]
  },
  {
   "cell_type": "code",
   "execution_count": 7,
   "id": "6887674a-f2cf-4c1c-afb4-eb9b1e447aa2",
   "metadata": {
    "execution": {
     "iopub.execute_input": "2025-02-24T16:42:54.740799Z",
     "iopub.status.busy": "2025-02-24T16:42:54.740799Z",
     "iopub.status.idle": "2025-02-24T16:42:54.743679Z",
     "shell.execute_reply": "2025-02-24T16:42:54.743679Z",
     "shell.execute_reply.started": "2025-02-24T16:42:54.740799Z"
    }
   },
   "outputs": [],
   "source": [
    "# gn.plot_geocoded_points(gdf)"
   ]
  },
  {
   "cell_type": "code",
   "execution_count": 8,
   "id": "f012e834-0199-43d9-8064-94014f737900",
   "metadata": {
    "execution": {
     "iopub.execute_input": "2025-02-24T16:42:54.893584Z",
     "iopub.status.busy": "2025-02-24T16:42:54.892585Z",
     "iopub.status.idle": "2025-02-24T16:42:57.732721Z",
     "shell.execute_reply": "2025-02-24T16:42:57.732721Z",
     "shell.execute_reply.started": "2025-02-24T16:42:54.893584Z"
    }
   },
   "outputs": [
    {
     "data": {
      "text/html": [
       "<div style=\"width:100%;\"><div style=\"position:relative;width:100%;height:0;padding-bottom:60%;\"><span style=\"color:#565656\">Make this Notebook Trusted to load map: File -> Trust Notebook</span><iframe srcdoc=\"&lt;!DOCTYPE html&gt;\n",
       "&lt;html&gt;\n",
       "&lt;head&gt;\n",
       "    \n",
       "    &lt;meta http-equiv=&quot;content-type&quot; content=&quot;text/html; charset=UTF-8&quot; /&gt;\n",
       "    \n",
       "        &lt;script&gt;\n",
       "            L_NO_TOUCH = false;\n",
       "            L_DISABLE_3D = false;\n",
       "        &lt;/script&gt;\n",
       "    \n",
       "    &lt;style&gt;html, body {width: 100%;height: 100%;margin: 0;padding: 0;}&lt;/style&gt;\n",
       "    &lt;style&gt;#map {position:absolute;top:0;bottom:0;right:0;left:0;}&lt;/style&gt;\n",
       "    &lt;script src=&quot;https://cdn.jsdelivr.net/npm/leaflet@1.9.3/dist/leaflet.js&quot;&gt;&lt;/script&gt;\n",
       "    &lt;script src=&quot;https://code.jquery.com/jquery-3.7.1.min.js&quot;&gt;&lt;/script&gt;\n",
       "    &lt;script src=&quot;https://cdn.jsdelivr.net/npm/bootstrap@5.2.2/dist/js/bootstrap.bundle.min.js&quot;&gt;&lt;/script&gt;\n",
       "    &lt;script src=&quot;https://cdnjs.cloudflare.com/ajax/libs/Leaflet.awesome-markers/2.0.2/leaflet.awesome-markers.js&quot;&gt;&lt;/script&gt;\n",
       "    &lt;link rel=&quot;stylesheet&quot; href=&quot;https://cdn.jsdelivr.net/npm/leaflet@1.9.3/dist/leaflet.css&quot;/&gt;\n",
       "    &lt;link rel=&quot;stylesheet&quot; href=&quot;https://cdn.jsdelivr.net/npm/bootstrap@5.2.2/dist/css/bootstrap.min.css&quot;/&gt;\n",
       "    &lt;link rel=&quot;stylesheet&quot; href=&quot;https://netdna.bootstrapcdn.com/bootstrap/3.0.0/css/bootstrap-glyphicons.css&quot;/&gt;\n",
       "    &lt;link rel=&quot;stylesheet&quot; href=&quot;https://cdn.jsdelivr.net/npm/@fortawesome/fontawesome-free@6.2.0/css/all.min.css&quot;/&gt;\n",
       "    &lt;link rel=&quot;stylesheet&quot; href=&quot;https://cdnjs.cloudflare.com/ajax/libs/Leaflet.awesome-markers/2.0.2/leaflet.awesome-markers.css&quot;/&gt;\n",
       "    &lt;link rel=&quot;stylesheet&quot; href=&quot;https://cdn.jsdelivr.net/gh/python-visualization/folium/folium/templates/leaflet.awesome.rotate.min.css&quot;/&gt;\n",
       "    \n",
       "            &lt;meta name=&quot;viewport&quot; content=&quot;width=device-width,\n",
       "                initial-scale=1.0, maximum-scale=1.0, user-scalable=no&quot; /&gt;\n",
       "            &lt;style&gt;\n",
       "                #map_c1e520b7016c46abdaafa7142ce5dda1 {\n",
       "                    position: relative;\n",
       "                    width: 100.0%;\n",
       "                    height: 100.0%;\n",
       "                    left: 0.0%;\n",
       "                    top: 0.0%;\n",
       "                }\n",
       "                .leaflet-container { font-size: 1rem; }\n",
       "            &lt;/style&gt;\n",
       "        \n",
       "    \n",
       "                    &lt;style&gt;\n",
       "                        .foliumtooltip {\n",
       "                            \n",
       "                        }\n",
       "                       .foliumtooltip table{\n",
       "                            margin: auto;\n",
       "                        }\n",
       "                        .foliumtooltip tr{\n",
       "                            text-align: left;\n",
       "                        }\n",
       "                        .foliumtooltip th{\n",
       "                            padding: 2px; padding-right: 8px;\n",
       "                        }\n",
       "                    &lt;/style&gt;\n",
       "            \n",
       "&lt;/head&gt;\n",
       "&lt;body&gt;\n",
       "    \n",
       "    \n",
       "            &lt;div class=&quot;folium-map&quot; id=&quot;map_c1e520b7016c46abdaafa7142ce5dda1&quot; &gt;&lt;/div&gt;\n",
       "        \n",
       "&lt;/body&gt;\n",
       "&lt;script&gt;\n",
       "    \n",
       "    \n",
       "            var map_c1e520b7016c46abdaafa7142ce5dda1 = L.map(\n",
       "                &quot;map_c1e520b7016c46abdaafa7142ce5dda1&quot;,\n",
       "                {\n",
       "                    center: [41.866391825, 12.486230651091457],\n",
       "                    crs: L.CRS.EPSG3857,\n",
       "                    ...{\n",
       "  &quot;zoom&quot;: 10,\n",
       "  &quot;zoomControl&quot;: true,\n",
       "  &quot;preferCanvas&quot;: false,\n",
       "}\n",
       "\n",
       "                }\n",
       "            );\n",
       "            L.control.scale().addTo(map_c1e520b7016c46abdaafa7142ce5dda1);\n",
       "\n",
       "            \n",
       "\n",
       "        \n",
       "    \n",
       "            var tile_layer_4d547c0692b2d50f5e734098173b2515 = L.tileLayer(\n",
       "                &quot;https://tile.openstreetmap.org/{z}/{x}/{y}.png&quot;,\n",
       "                {\n",
       "  &quot;minZoom&quot;: 0,\n",
       "  &quot;maxZoom&quot;: 19,\n",
       "  &quot;maxNativeZoom&quot;: 19,\n",
       "  &quot;noWrap&quot;: false,\n",
       "  &quot;attribution&quot;: &quot;\\u0026copy; \\u003ca href=\\&quot;https://www.openstreetmap.org/copyright\\&quot;\\u003eOpenStreetMap\\u003c/a\\u003e contributors&quot;,\n",
       "  &quot;subdomains&quot;: &quot;abc&quot;,\n",
       "  &quot;detectRetina&quot;: false,\n",
       "  &quot;tms&quot;: false,\n",
       "  &quot;opacity&quot;: 1,\n",
       "}\n",
       "\n",
       "            );\n",
       "        \n",
       "    \n",
       "            tile_layer_4d547c0692b2d50f5e734098173b2515.addTo(map_c1e520b7016c46abdaafa7142ce5dda1);\n",
       "        \n",
       "    \n",
       "            map_c1e520b7016c46abdaafa7142ce5dda1.fitBounds(\n",
       "                [[41.833166000000006, 12.466212282358827], [41.899617649999996, 12.506249019824086]],\n",
       "                {}\n",
       "            );\n",
       "        \n",
       "    \n",
       "        function geo_json_944e8867f0667cd4cb1e920287f46739_styler(feature) {\n",
       "            switch(feature.id) {\n",
       "                default:\n",
       "                    return {&quot;fillOpacity&quot;: 0.5, &quot;weight&quot;: 2};\n",
       "            }\n",
       "        }\n",
       "        function geo_json_944e8867f0667cd4cb1e920287f46739_highlighter(feature) {\n",
       "            switch(feature.id) {\n",
       "                default:\n",
       "                    return {&quot;fillOpacity&quot;: 0.75};\n",
       "            }\n",
       "        }\n",
       "        function geo_json_944e8867f0667cd4cb1e920287f46739_pointToLayer(feature, latlng) {\n",
       "            var opts = {&quot;bubblingMouseEvents&quot;: true, &quot;color&quot;: &quot;#3388ff&quot;, &quot;dashArray&quot;: null, &quot;dashOffset&quot;: null, &quot;fill&quot;: true, &quot;fillColor&quot;: &quot;#3388ff&quot;, &quot;fillOpacity&quot;: 0.2, &quot;fillRule&quot;: &quot;evenodd&quot;, &quot;lineCap&quot;: &quot;round&quot;, &quot;lineJoin&quot;: &quot;round&quot;, &quot;opacity&quot;: 1.0, &quot;radius&quot;: 2, &quot;stroke&quot;: true, &quot;weight&quot;: 3};\n",
       "            \n",
       "            let style = geo_json_944e8867f0667cd4cb1e920287f46739_styler(feature)\n",
       "            Object.assign(opts, style)\n",
       "            \n",
       "            return new L.CircleMarker(latlng, opts)\n",
       "        }\n",
       "\n",
       "        function geo_json_944e8867f0667cd4cb1e920287f46739_onEachFeature(feature, layer) {\n",
       "            layer.on({\n",
       "                mouseout: function(e) {\n",
       "                    if(typeof e.target.setStyle === &quot;function&quot;){\n",
       "                            geo_json_944e8867f0667cd4cb1e920287f46739.resetStyle(e.target);\n",
       "                    }\n",
       "                },\n",
       "                mouseover: function(e) {\n",
       "                    if(typeof e.target.setStyle === &quot;function&quot;){\n",
       "                        const highlightStyle = geo_json_944e8867f0667cd4cb1e920287f46739_highlighter(e.target.feature)\n",
       "                        e.target.setStyle(highlightStyle);\n",
       "                    }\n",
       "                },\n",
       "            });\n",
       "        };\n",
       "        var geo_json_944e8867f0667cd4cb1e920287f46739 = L.geoJson(null, {\n",
       "                onEachFeature: geo_json_944e8867f0667cd4cb1e920287f46739_onEachFeature,\n",
       "            \n",
       "                style: geo_json_944e8867f0667cd4cb1e920287f46739_styler,\n",
       "                pointToLayer: geo_json_944e8867f0667cd4cb1e920287f46739_pointToLayer,\n",
       "            ...{\n",
       "}\n",
       "        });\n",
       "\n",
       "        function geo_json_944e8867f0667cd4cb1e920287f46739_add (data) {\n",
       "            geo_json_944e8867f0667cd4cb1e920287f46739\n",
       "                .addData(data);\n",
       "        }\n",
       "            geo_json_944e8867f0667cd4cb1e920287f46739_add({&quot;bbox&quot;: [12.466212282358827, 41.833166000000006, 12.506249019824086, 41.899617649999996], &quot;features&quot;: [{&quot;bbox&quot;: [12.4676846, 41.8690183, 12.4676846, 41.8690183], &quot;geometry&quot;: {&quot;coordinates&quot;: [12.4676846, 41.8690183], &quot;type&quot;: &quot;Point&quot;}, &quot;id&quot;: &quot;0&quot;, &quot;properties&quot;: {&quot;Address&quot;: &quot;viale Marconi 12, Roma, Italia&quot;, &quot;Latitude&quot;: 41.8690183, &quot;Longitude&quot;: 12.4676846}, &quot;type&quot;: &quot;Feature&quot;}, {&quot;bbox&quot;: [12.466212282358827, 41.833166000000006, 12.466212282358827, 41.833166000000006], &quot;geometry&quot;: {&quot;coordinates&quot;: [12.466212282358827, 41.833166000000006], &quot;type&quot;: &quot;Point&quot;}, &quot;id&quot;: &quot;1&quot;, &quot;properties&quot;: {&quot;Address&quot;: &quot;Viale Beethoven, 36, 00144 Roma RM&quot;, &quot;Latitude&quot;: 41.833166000000006, &quot;Longitude&quot;: 12.466212282358827}, &quot;type&quot;: &quot;Feature&quot;}, {&quot;bbox&quot;: [12.506249019824086, 41.899617649999996, 12.506249019824086, 41.899617649999996], &quot;geometry&quot;: {&quot;coordinates&quot;: [12.506249019824086, 41.899617649999996], &quot;type&quot;: &quot;Point&quot;}, &quot;id&quot;: &quot;2&quot;, &quot;properties&quot;: {&quot;Address&quot;: &quot;Stazione Termini, Roma&quot;, &quot;Latitude&quot;: 41.899617649999996, &quot;Longitude&quot;: 12.506249019824086}, &quot;type&quot;: &quot;Feature&quot;}, {&quot;bbox&quot;: [12.5029204, 41.8955501, 12.5029204, 41.8955501], &quot;geometry&quot;: {&quot;coordinates&quot;: [12.5029204, 41.8955501], &quot;type&quot;: &quot;Point&quot;}, &quot;id&quot;: &quot;3&quot;, &quot;properties&quot;: {&quot;Address&quot;: &quot;Piazza Vittorio Emanuele II, 1, 00187 Roma RM&quot;, &quot;Latitude&quot;: 41.8955501, &quot;Longitude&quot;: 12.5029204}, &quot;type&quot;: &quot;Feature&quot;}], &quot;type&quot;: &quot;FeatureCollection&quot;});\n",
       "\n",
       "        \n",
       "    \n",
       "    geo_json_944e8867f0667cd4cb1e920287f46739.bindTooltip(\n",
       "    function(layer){\n",
       "    let div = L.DomUtil.create(&#x27;div&#x27;);\n",
       "    \n",
       "    let handleObject = feature=&gt;typeof(feature)==&#x27;object&#x27; ? JSON.stringify(feature) : feature;\n",
       "    let fields = [&quot;Address&quot;, &quot;Latitude&quot;, &quot;Longitude&quot;];\n",
       "    let aliases = [&quot;Address&quot;, &quot;Latitude&quot;, &quot;Longitude&quot;];\n",
       "    let table = &#x27;&lt;table&gt;&#x27; +\n",
       "        String(\n",
       "        fields.map(\n",
       "        (v,i)=&gt;\n",
       "        `&lt;tr&gt;\n",
       "            &lt;th&gt;${aliases[i]}&lt;/th&gt;\n",
       "            \n",
       "            &lt;td&gt;${handleObject(layer.feature.properties[v])}&lt;/td&gt;\n",
       "        &lt;/tr&gt;`).join(&#x27;&#x27;))\n",
       "    +&#x27;&lt;/table&gt;&#x27;;\n",
       "    div.innerHTML=table;\n",
       "    \n",
       "    return div\n",
       "    }\n",
       "    ,{\n",
       "  &quot;sticky&quot;: true,\n",
       "  &quot;className&quot;: &quot;foliumtooltip&quot;,\n",
       "});\n",
       "                     \n",
       "    \n",
       "            geo_json_944e8867f0667cd4cb1e920287f46739.addTo(map_c1e520b7016c46abdaafa7142ce5dda1);\n",
       "        \n",
       "&lt;/script&gt;\n",
       "&lt;/html&gt;\" style=\"position:absolute;width:100%;height:100%;left:0;top:0;border:none !important;\" allowfullscreen webkitallowfullscreen mozallowfullscreen></iframe></div></div>"
      ],
      "text/plain": [
       "<folium.folium.Map at 0x22eba687110>"
      ]
     },
     "execution_count": 8,
     "metadata": {},
     "output_type": "execute_result"
    }
   ],
   "source": [
    "gdf.explore()"
   ]
  },
  {
   "cell_type": "code",
   "execution_count": null,
   "id": "2760e7c6-e919-4d6e-894d-ecd4019209f8",
   "metadata": {},
   "outputs": [],
   "source": []
  }
 ],
 "metadata": {
  "kernelspec": {
   "display_name": "Python 3 (ipykernel)",
   "language": "python",
   "name": "python3"
  },
  "language_info": {
   "codemirror_mode": {
    "name": "ipython",
    "version": 3
   },
   "file_extension": ".py",
   "mimetype": "text/x-python",
   "name": "python",
   "nbconvert_exporter": "python",
   "pygments_lexer": "ipython3",
   "version": "3.12.9"
  }
 },
 "nbformat": 4,
 "nbformat_minor": 5
}
